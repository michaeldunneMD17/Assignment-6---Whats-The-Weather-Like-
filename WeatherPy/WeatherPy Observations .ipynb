{
 "cells": [
  {
   "cell_type": "markdown",
   "id": "d6ea3a6f",
   "metadata": {},
   "source": [
    "# WeatherPy Observations \n",
    "\n",
    "- As illustrated in the Latitiude vs. Temperature Plot - we can determine that as the latitiude increases the temperature decreases. And for the most part, the highest temperature values are closest to the zero latitude value, the equator. \n",
    "\n",
    "- In the Southern Hemisphere, as the latitiude increases, so does the temperature as a result of the sunlight changes within the seasons. While within the Northern Hemisphere, as the latitiude increases, the temperature decreases, because higher latitude locations recieve less heat, than lower latitude areas, closer to the equator during the same time of the year (better known as the solstice). \n",
    "\n",
    "- There appears to be no correlation between Latitude and Cloudiness. \n",
    "\n",
    "- Windspeed increases on the north side of the equator. More studies would need to be done to determine a root cause for this outcome. "
   ]
  },
  {
   "cell_type": "code",
   "execution_count": null,
   "id": "587f300f",
   "metadata": {},
   "outputs": [],
   "source": []
  }
 ],
 "metadata": {
  "kernelspec": {
   "display_name": "Python 3 (ipykernel)",
   "language": "python",
   "name": "python3"
  },
  "language_info": {
   "codemirror_mode": {
    "name": "ipython",
    "version": 3
   },
   "file_extension": ".py",
   "mimetype": "text/x-python",
   "name": "python",
   "nbconvert_exporter": "python",
   "pygments_lexer": "ipython3",
   "version": "3.9.7"
  }
 },
 "nbformat": 4,
 "nbformat_minor": 5
}
